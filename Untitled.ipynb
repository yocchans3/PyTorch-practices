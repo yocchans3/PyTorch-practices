{
 "cells": [
  {
   "cell_type": "code",
   "execution_count": 4,
   "metadata": {},
   "outputs": [],
   "source": [
    "import torch\n",
    "import torch.nn as nn\n",
    "import torch.optim as optim\n",
    "import matplotlib.pyplot as plt\n",
    "import numpy as np\n",
    "%matplotlib inline\n",
    "plt.style.use(\"ggplot\")"
   ]
  },
  {
   "cell_type": "code",
   "execution_count": 5,
   "metadata": {},
   "outputs": [
    {
     "data": {
      "text/plain": [
       "<torch._C.Generator at 0x105b9a150>"
      ]
     },
     "execution_count": 5,
     "metadata": {},
     "output_type": "execute_result"
    }
   ],
   "source": [
    "torch.manual_seed(123)"
   ]
  },
  {
   "cell_type": "code",
   "execution_count": 6,
   "metadata": {},
   "outputs": [],
   "source": [
    "a = 3\n",
    "b = 2\n",
    "x = torch.linspace(0, 5, 100).view(100, 1)\n",
    "eps = torch.randn(100, 1)\n",
    "y = a * x + b + eps"
   ]
  },
  {
   "cell_type": "code",
   "execution_count": 8,
   "metadata": {},
   "outputs": [
    {
     "data": {
      "text/plain": [
       "torch.Size([100, 1])"
      ]
     },
     "execution_count": 8,
     "metadata": {},
     "output_type": "execute_result"
    }
   ],
   "source": [
    "x.shape"
   ]
  },
  {
   "cell_type": "code",
   "execution_count": 9,
   "metadata": {},
   "outputs": [
    {
     "data": {
      "text/plain": [
       "<matplotlib.collections.PathCollection at 0x129440d68>"
      ]
     },
     "execution_count": 9,
     "metadata": {},
     "output_type": "execute_result"
    },
    {
     "data": {
      "image/png": "[encoded data removed]",
      "text/plain": [
       "<Figure size 432x288 with 1 Axes>"
      ]
     },
     "metadata": {},
     "output_type": "display_data"
    }
   ],
   "source": [
    "plt.scatter(x, y)"
   ]
  },
  {
   "cell_type": "code",
   "execution_count": 10,
   "metadata": {},
   "outputs": [],
   "source": [
    "class LR(nn.Module):\n",
    "    def __init__(self):\n",
    "        super().__init__()\n",
    "        self.linear = nn.Linear(in_features=1, out_features=1)\n",
    "        \n",
    "    def forward(self, x):\n",
    "        output = self.linear(x)\n",
    "        return output"
   ]
  },
  {
   "cell_type": "code",
   "execution_count": 11,
   "metadata": {},
   "outputs": [],
   "source": [
    "model = LR()"
   ]
  },
  {
   "cell_type": "code",
   "execution_count": 12,
   "metadata": {},
   "outputs": [
    {
     "data": {
      "text/plain": [
       "LR(\n",
       "  (linear): Linear(in_features=1, out_features=1, bias=True)\n",
       ")"
      ]
     },
     "execution_count": 12,
     "metadata": {},
     "output_type": "execute_result"
    }
   ],
   "source": [
    "model"
   ]
  },
  {
   "cell_type": "code",
   "execution_count": 14,
   "metadata": {},
   "outputs": [],
   "source": [
    "x_test = torch.tensor([[1.0], [2.0]])"
   ]
  },
  {
   "cell_type": "code",
   "execution_count": 15,
   "metadata": {},
   "outputs": [
    {
     "data": {
      "text/plain": [
       "tensor([[-0.6505],\n",
       "        [-1.4166]], grad_fn=<AddmmBackward>)"
      ]
     },
     "execution_count": 15,
     "metadata": {},
     "output_type": "execute_result"
    }
   ],
   "source": [
    "model(x_test)"
   ]
  },
  {
   "cell_type": "code",
   "execution_count": 16,
   "metadata": {},
   "outputs": [],
   "source": [
    "x2 = torch.linspace(0, 3, 100).view(100, 1)"
   ]
  },
  {
   "cell_type": "code",
   "execution_count": 18,
   "metadata": {},
   "outputs": [],
   "source": [
    "y_pred = model(x2)"
   ]
  },
  {
   "cell_type": "code",
   "execution_count": 19,
   "metadata": {
    "collapsed": true,
    "jupyter": {
     "outputs_hidden": true
    }
   },
   "outputs": [
    {
     "data": {
      "text/plain": [
       "tensor([[ 1.1556e-01],\n",
       "        [ 9.2342e-02],\n",
       "        [ 6.9127e-02],\n",
       "        [ 4.5912e-02],\n",
       "        [ 2.2697e-02],\n",
       "        [-5.1795e-04],\n",
       "        [-2.3733e-02],\n",
       "        [-4.6948e-02],\n",
       "        [-7.0163e-02],\n",
       "        [-9.3378e-02],\n",
       "        [-1.1659e-01],\n",
       "        [-1.3981e-01],\n",
       "        [-1.6302e-01],\n",
       "        [-1.8624e-01],\n",
       "        [-2.0945e-01],\n",
       "        [-2.3267e-01],\n",
       "        [-2.5588e-01],\n",
       "        [-2.7910e-01],\n",
       "        [-3.0231e-01],\n",
       "        [-3.2553e-01],\n",
       "        [-3.4874e-01],\n",
       "        [-3.7196e-01],\n",
       "        [-3.9517e-01],\n",
       "        [-4.1839e-01],\n",
       "        [-4.4160e-01],\n",
       "        [-4.6482e-01],\n",
       "        [-4.8803e-01],\n",
       "        [-5.1125e-01],\n",
       "        [-5.3446e-01],\n",
       "        [-5.5768e-01],\n",
       "        [-5.8089e-01],\n",
       "        [-6.0411e-01],\n",
       "        [-6.2732e-01],\n",
       "        [-6.5054e-01],\n",
       "        [-6.7375e-01],\n",
       "        [-6.9697e-01],\n",
       "        [-7.2018e-01],\n",
       "        [-7.4340e-01],\n",
       "        [-7.6661e-01],\n",
       "        [-7.8983e-01],\n",
       "        [-8.1304e-01],\n",
       "        [-8.3626e-01],\n",
       "        [-8.5947e-01],\n",
       "        [-8.8269e-01],\n",
       "        [-9.0591e-01],\n",
       "        [-9.2912e-01],\n",
       "        [-9.5234e-01],\n",
       "        [-9.7555e-01],\n",
       "        [-9.9877e-01],\n",
       "        [-1.0220e+00],\n",
       "        [-1.0452e+00],\n",
       "        [-1.0684e+00],\n",
       "        [-1.0916e+00],\n",
       "        [-1.1148e+00],\n",
       "        [-1.1381e+00],\n",
       "        [-1.1613e+00],\n",
       "        [-1.1845e+00],\n",
       "        [-1.2077e+00],\n",
       "        [-1.2309e+00],\n",
       "        [-1.2541e+00],\n",
       "        [-1.2773e+00],\n",
       "        [-1.3006e+00],\n",
       "        [-1.3238e+00],\n",
       "        [-1.3470e+00],\n",
       "        [-1.3702e+00],\n",
       "        [-1.3934e+00],\n",
       "        [-1.4166e+00],\n",
       "        [-1.4399e+00],\n",
       "        [-1.4631e+00],\n",
       "        [-1.4863e+00],\n",
       "        [-1.5095e+00],\n",
       "        [-1.5327e+00],\n",
       "        [-1.5559e+00],\n",
       "        [-1.5791e+00],\n",
       "        [-1.6024e+00],\n",
       "        [-1.6256e+00],\n",
       "        [-1.6488e+00],\n",
       "        [-1.6720e+00],\n",
       "        [-1.6952e+00],\n",
       "        [-1.7184e+00],\n",
       "        [-1.7416e+00],\n",
       "        [-1.7649e+00],\n",
       "        [-1.7881e+00],\n",
       "        [-1.8113e+00],\n",
       "        [-1.8345e+00],\n",
       "        [-1.8577e+00],\n",
       "        [-1.8809e+00],\n",
       "        [-1.9042e+00],\n",
       "        [-1.9274e+00],\n",
       "        [-1.9506e+00],\n",
       "        [-1.9738e+00],\n",
       "        [-1.9970e+00],\n",
       "        [-2.0202e+00],\n",
       "        [-2.0434e+00],\n",
       "        [-2.0667e+00],\n",
       "        [-2.0899e+00],\n",
       "        [-2.1131e+00],\n",
       "        [-2.1363e+00],\n",
       "        [-2.1595e+00],\n",
       "        [-2.1827e+00]], grad_fn=<AddmmBackward>)"
      ]
     },
     "execution_count": 19,
     "metadata": {},
     "output_type": "execute_result"
    }
   ],
   "source": [
    "y_pred"
   ]
  },
  {
   "cell_type": "code",
   "execution_count": 21,
   "metadata": {},
   "outputs": [
    {
     "data": {
      "text/plain": [
       "<matplotlib.legend.Legend at 0x129ae9e48>"
      ]
     },
     "execution_count": 21,
     "metadata": {},
     "output_type": "execute_result"
    },
    {
     "data": {
      "image/png": "[encoded data removed]",
      "text/plain": [
       "<Figure size 432x288 with 1 Axes>"
      ]
     },
     "metadata": {},
     "output_type": "display_data"
    }
   ],
   "source": [
    "plt.plot(x2, y_pred.detach(), label=\"prediction\")\n",
    "plt.scatter(x, y, label=\"data\")\n",
    "plt.legend()"
   ]
  },
  {
   "cell_type": "code",
   "execution_count": 23,
   "metadata": {},
   "outputs": [],
   "source": [
    "criterion = nn.MSELoss()\n",
    "optimizer = optim.SGD(model.parameters(), lr=0.001)"
   ]
  },
  {
   "cell_type": "code",
   "execution_count": 25,
   "metadata": {},
   "outputs": [
    {
     "data": {
      "text/plain": [
       "\u001b[0;31mSignature:\u001b[0m \u001b[0mmodel\u001b[0m\u001b[0;34m.\u001b[0m\u001b[0mparameters\u001b[0m\u001b[0;34m(\u001b[0m\u001b[0mrecurse\u001b[0m\u001b[0;34m:\u001b[0m \u001b[0mbool\u001b[0m \u001b[0;34m=\u001b[0m \u001b[0;32mTrue\u001b[0m\u001b[0;34m)\u001b[0m \u001b[0;34m->\u001b[0m \u001b[0mIterator\u001b[0m\u001b[0;34m[\u001b[0m\u001b[0mtorch\u001b[0m\u001b[0;34m.\u001b[0m\u001b[0mnn\u001b[0m\u001b[0;34m.\u001b[0m\u001b[0mparameter\u001b[0m\u001b[0;34m.\u001b[0m\u001b[0mParameter\u001b[0m\u001b[0;34m]\u001b[0m\u001b[0;34m\u001b[0m\u001b[0;34m\u001b[0m\u001b[0m\n",
       "\u001b[0;31mDocstring:\u001b[0m\n",
       "Returns an iterator over module parameters.\n",
       "\n",
       "This is typically passed to an optimizer.\n",
       "\n",
       "Args:\n",
       "    recurse (bool): if True, then yields parameters of this module\n",
       "        and all submodules. Otherwise, yields only parameters that\n",
       "        are direct members of this module.\n",
       "\n",
       "Yields:\n",
       "    Parameter: module parameter\n",
       "\n",
       "Example::\n",
       "\n",
       "    >>> for param in model.parameters():\n",
       "    >>>     print(type(param), param.size())\n",
       "    <class 'torch.Tensor'> (20L,)\n",
       "    <class 'torch.Tensor'> (20L, 1L, 5L, 5L)\n",
       "\u001b[0;31mFile:\u001b[0m      ~/.pyenv/versions/3.7.1/lib/python3.7/site-packages/torch/nn/modules/module.py\n",
       "\u001b[0;31mType:\u001b[0m      method\n"
      ]
     },
     "metadata": {},
     "output_type": "display_data"
    }
   ],
   "source": [
    "model.parameters?"
   ]
  },
  {
   "cell_type": "code",
   "execution_count": 26,
   "metadata": {},
   "outputs": [
    {
     "name": "stdout",
     "output_type": "stream",
     "text": [
      "epoch: 0, loss:156.7843017578125\n",
      "epoch: 10, loss:108.7425765991211\n",
      "epoch: 20, loss:75.52831268310547\n",
      "epoch: 30, loss:52.56508255004883\n",
      "epoch: 40, loss:36.68894958496094\n",
      "epoch: 50, loss:25.712505340576172\n",
      "epoch: 60, loss:18.12348175048828\n",
      "epoch: 70, loss:12.876379013061523\n",
      "epoch: 80, loss:9.248372077941895\n",
      "epoch: 90, loss:6.739730358123779\n",
      "epoch: 100, loss:5.00498104095459\n",
      "epoch: 110, loss:3.805262565612793\n",
      "epoch: 120, loss:2.97544527053833\n",
      "epoch: 130, loss:2.401362657546997\n",
      "epoch: 140, loss:2.0040884017944336\n",
      "epoch: 150, loss:1.7290523052215576\n",
      "epoch: 160, loss:1.5385338068008423\n",
      "epoch: 170, loss:1.4064480066299438\n",
      "epoch: 180, loss:1.3147624731063843\n",
      "epoch: 190, loss:1.2510120868682861\n",
      "epoch: 200, loss:1.2065789699554443\n",
      "epoch: 210, loss:1.1755024194717407\n",
      "epoch: 220, loss:1.1536643505096436\n",
      "epoch: 230, loss:1.1382169723510742\n",
      "epoch: 240, loss:1.127191185951233\n",
      "epoch: 250, loss:1.1192247867584229\n",
      "epoch: 260, loss:1.1133769750595093\n",
      "epoch: 270, loss:1.1089966297149658\n",
      "epoch: 280, loss:1.1056345701217651\n",
      "epoch: 290, loss:1.1029791831970215\n",
      "epoch: 300, loss:1.1008154153823853\n",
      "epoch: 310, loss:1.0989948511123657\n",
      "epoch: 320, loss:1.097414255142212\n",
      "epoch: 330, loss:1.0960029363632202\n",
      "epoch: 340, loss:1.0947110652923584\n",
      "epoch: 350, loss:1.0935051441192627\n",
      "epoch: 360, loss:1.092361330986023\n",
      "epoch: 370, loss:1.0912634134292603\n",
      "epoch: 380, loss:1.0901999473571777\n",
      "epoch: 390, loss:1.0891631841659546\n",
      "epoch: 400, loss:1.0881478786468506\n",
      "epoch: 410, loss:1.087149739265442\n",
      "epoch: 420, loss:1.086166501045227\n",
      "epoch: 430, loss:1.0851964950561523\n",
      "epoch: 440, loss:1.084237813949585\n",
      "epoch: 450, loss:1.0832899808883667\n",
      "epoch: 460, loss:1.0823521614074707\n",
      "epoch: 470, loss:1.0814239978790283\n",
      "epoch: 480, loss:1.0805048942565918\n",
      "epoch: 490, loss:1.0795948505401611\n"
     ]
    }
   ],
   "source": [
    "losses = []\n",
    "num_epoch = 500\n",
    "for epoch in range(num_epoch):\n",
    "    optimizer.zero_grad()\n",
    "    y_pred = model(x)\n",
    "    loss = criterion(y_pred, y)\n",
    "    loss.backward()\n",
    "    optimizer.step()\n",
    "    if epoch % 10 == 0:\n",
    "        print(\"epoch: {}, loss:{}\".format(epoch, loss.item()))\n",
    "    losses.append(loss)"
   ]
  },
  {
   "cell_type": "code",
   "execution_count": 27,
   "metadata": {},
   "outputs": [
    {
     "data": {
      "text/plain": [
       "[<matplotlib.lines.Line2D at 0x12c3e9d68>]"
      ]
     },
     "execution_count": 27,
     "metadata": {},
     "output_type": "execute_result"
    },
    {
     "data": {
      "image/png": "[encoded data removed]",
      "text/plain": [
       "<Figure size 432x288 with 1 Axes>"
      ]
     },
     "metadata": {},
     "output_type": "display_data"
    }
   ],
   "source": [
    "plt.plot(losses)"
   ]
  },
  {
   "cell_type": "code",
   "execution_count": 29,
   "metadata": {},
   "outputs": [
    {
     "data": {
      "text/plain": [
       "<matplotlib.legend.Legend at 0x129b9bc18>"
      ]
     },
     "execution_count": 29,
     "metadata": {},
     "output_type": "execute_result"
    },
    {
     "data": {
      "image/png": "[encoded data removed]",
      "text/plain": [
       "<Figure size 432x288 with 1 Axes>"
      ]
     },
     "metadata": {},
     "output_type": "display_data"
    }
   ],
   "source": [
    "x_test = torch.linspace(0, 5, 100).view(100, 1)\n",
    "y_test = model(x_test)\n",
    "plt.plot(x_test, y_test.detach(), label=\"pred\")\n",
    "plt.scatter(x, y, label=\"data\")\n",
    "plt.legend()"
   ]
  },
  {
   "cell_type": "code",
   "execution_count": null,
   "metadata": {},
   "outputs": [],
   "source": []
  }
 ],
 "metadata": {
  "kernelspec": {
   "display_name": "Python 3",
   "language": "python",
   "name": "python3"
  },
  "language_info": {
   "codemirror_mode": {
    "name": "ipython",
    "version": 3
   },
   "file_extension": ".py",
   "mimetype": "text/x-python",
   "name": "python",
   "nbconvert_exporter": "python",
   "pygments_lexer": "ipython3",
   "version": "3.7.1"
  }
 },
 "nbformat": 4,
 "nbformat_minor": 4
}
